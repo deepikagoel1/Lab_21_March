{
 "cells": [
  {
   "cell_type": "code",
   "execution_count": 61,
   "metadata": {},
   "outputs": [],
   "source": [
    "import pandas as pd\n",
    "import numpy as np\n",
    "import matplotlib.pyplot as plt\n",
    "from sklearn.model_selection import train_test_split\n",
    "from sklearn.linear_model import LinearRegression\n",
    "from sklearn.preprocessing import PolynomialFeatures\n",
    "from sklearn.metrics import mean_squared_error\n",
    "import operator\n"
   ]
  },
  {
   "cell_type": "code",
   "execution_count": 62,
   "metadata": {},
   "outputs": [
    {
     "name": "stdout",
     "output_type": "stream",
     "text": [
      "   humidity     pressure    rain    lightAvg  lightMax  moisture  temperature\n",
      "0  87.64615  1027.830769  254.25    274.6232      4333   31.2385     24.06923\n",
      "1  95.94805  1006.924675  339.75  14148.9787     54612  100.0000     21.20779\n",
      "2  96.17143  1006.568571   38.25    134.9000      4000   93.2000     23.48571\n",
      "3  98.58974  1009.415385   29.25    659.8889      4000    5.7692     21.79487\n",
      "4  88.32710   991.654112    4.50   2168.3333      6295    4.2897     25.09346\n",
      "(819, 7)\n"
     ]
    }
   ],
   "source": [
    "atmosphere_data = pd.read_csv('atmosphere_data1.csv')\n",
    "print(atmosphere_data.head())\n",
    "print(atmosphere_data.shape)"
   ]
  },
  {
   "cell_type": "markdown",
   "metadata": {},
   "source": [
    "### Finding correlation between all the attributes"
   ]
  },
  {
   "cell_type": "code",
   "execution_count": 63,
   "metadata": {},
   "outputs": [
    {
     "data": {
      "text/html": [
       "<div>\n",
       "<style scoped>\n",
       "    .dataframe tbody tr th:only-of-type {\n",
       "        vertical-align: middle;\n",
       "    }\n",
       "\n",
       "    .dataframe tbody tr th {\n",
       "        vertical-align: top;\n",
       "    }\n",
       "\n",
       "    .dataframe thead th {\n",
       "        text-align: right;\n",
       "    }\n",
       "</style>\n",
       "<table border=\"1\" class=\"dataframe\">\n",
       "  <thead>\n",
       "    <tr style=\"text-align: right;\">\n",
       "      <th></th>\n",
       "      <th>humidity</th>\n",
       "      <th>pressure</th>\n",
       "      <th>rain</th>\n",
       "      <th>lightAvg</th>\n",
       "      <th>lightMax</th>\n",
       "      <th>moisture</th>\n",
       "      <th>temperature</th>\n",
       "    </tr>\n",
       "  </thead>\n",
       "  <tbody>\n",
       "    <tr>\n",
       "      <th>humidity</th>\n",
       "      <td>1.000000</td>\n",
       "      <td>-0.443664</td>\n",
       "      <td>-0.574543</td>\n",
       "      <td>-0.372385</td>\n",
       "      <td>-0.320195</td>\n",
       "      <td>-0.153100</td>\n",
       "      <td>0.320420</td>\n",
       "    </tr>\n",
       "    <tr>\n",
       "      <th>pressure</th>\n",
       "      <td>-0.443664</td>\n",
       "      <td>1.000000</td>\n",
       "      <td>0.435406</td>\n",
       "      <td>0.212624</td>\n",
       "      <td>0.112181</td>\n",
       "      <td>0.105356</td>\n",
       "      <td>-0.586251</td>\n",
       "    </tr>\n",
       "    <tr>\n",
       "      <th>rain</th>\n",
       "      <td>-0.574543</td>\n",
       "      <td>0.435406</td>\n",
       "      <td>1.000000</td>\n",
       "      <td>0.539015</td>\n",
       "      <td>0.347064</td>\n",
       "      <td>0.451626</td>\n",
       "      <td>-0.187917</td>\n",
       "    </tr>\n",
       "    <tr>\n",
       "      <th>lightAvg</th>\n",
       "      <td>-0.372385</td>\n",
       "      <td>0.212624</td>\n",
       "      <td>0.539015</td>\n",
       "      <td>1.000000</td>\n",
       "      <td>0.634159</td>\n",
       "      <td>0.349297</td>\n",
       "      <td>-0.225644</td>\n",
       "    </tr>\n",
       "    <tr>\n",
       "      <th>lightMax</th>\n",
       "      <td>-0.320195</td>\n",
       "      <td>0.112181</td>\n",
       "      <td>0.347064</td>\n",
       "      <td>0.634159</td>\n",
       "      <td>1.000000</td>\n",
       "      <td>0.038260</td>\n",
       "      <td>-0.093311</td>\n",
       "    </tr>\n",
       "    <tr>\n",
       "      <th>moisture</th>\n",
       "      <td>-0.153100</td>\n",
       "      <td>0.105356</td>\n",
       "      <td>0.451626</td>\n",
       "      <td>0.349297</td>\n",
       "      <td>0.038260</td>\n",
       "      <td>1.000000</td>\n",
       "      <td>0.001578</td>\n",
       "    </tr>\n",
       "    <tr>\n",
       "      <th>temperature</th>\n",
       "      <td>0.320420</td>\n",
       "      <td>-0.586251</td>\n",
       "      <td>-0.187917</td>\n",
       "      <td>-0.225644</td>\n",
       "      <td>-0.093311</td>\n",
       "      <td>0.001578</td>\n",
       "      <td>1.000000</td>\n",
       "    </tr>\n",
       "  </tbody>\n",
       "</table>\n",
       "</div>"
      ],
      "text/plain": [
       "             humidity  pressure      rain  lightAvg  lightMax  moisture  \\\n",
       "humidity     1.000000 -0.443664 -0.574543 -0.372385 -0.320195 -0.153100   \n",
       "pressure    -0.443664  1.000000  0.435406  0.212624  0.112181  0.105356   \n",
       "rain        -0.574543  0.435406  1.000000  0.539015  0.347064  0.451626   \n",
       "lightAvg    -0.372385  0.212624  0.539015  1.000000  0.634159  0.349297   \n",
       "lightMax    -0.320195  0.112181  0.347064  0.634159  1.000000  0.038260   \n",
       "moisture    -0.153100  0.105356  0.451626  0.349297  0.038260  1.000000   \n",
       "temperature  0.320420 -0.586251 -0.187917 -0.225644 -0.093311  0.001578   \n",
       "\n",
       "             temperature  \n",
       "humidity        0.320420  \n",
       "pressure       -0.586251  \n",
       "rain           -0.187917  \n",
       "lightAvg       -0.225644  \n",
       "lightMax       -0.093311  \n",
       "moisture        0.001578  \n",
       "temperature     1.000000  "
      ]
     },
     "execution_count": 63,
     "metadata": {},
     "output_type": "execute_result"
    }
   ],
   "source": [
    "atmosphere_data.corr()"
   ]
  },
  {
   "cell_type": "markdown",
   "metadata": {},
   "source": [
    "## Observations\n",
    "\n",
    "#### We can observe that only humidity has a correlation value greater than 0.2 with temperature.\n",
    "Therefore, we will use ***humidity as the only independent*** variable for building our linear and polynomial regressors"
   ]
  },
  {
   "cell_type": "code",
   "execution_count": 64,
   "metadata": {},
   "outputs": [
    {
     "name": "stdout",
     "output_type": "stream",
     "text": [
      "humidity       0\n",
      "pressure       0\n",
      "rain           0\n",
      "lightAvg       0\n",
      "lightMax       0\n",
      "moisture       0\n",
      "temperature    0\n",
      "dtype: int64\n"
     ]
    }
   ],
   "source": [
    "# Null check\n",
    "print(atmosphere_data.isnull().sum())\n",
    "# print(atmosphere_data[\"humidity\"].isnull().sum())"
   ]
  },
  {
   "cell_type": "code",
   "execution_count": 65,
   "metadata": {},
   "outputs": [
    {
     "name": "stdout",
     "output_type": "stream",
     "text": [
      "selected columns: ['humidity']\n"
     ]
    }
   ],
   "source": [
    "selected_input_columns = []\n",
    "\n",
    "for col in atmosphere_data.columns:\n",
    "    if (col != 'temperature') and atmosphere_data[col].corr(atmosphere_data['temperature']) > 0.2:\n",
    "        selected_input_columns.append(col)\n",
    "\n",
    "print(\"selected columns:\",selected_input_columns)\n",
    "\n",
    "X = atmosphere_data[selected_input_columns]\n",
    "Y = atmosphere_data[\"temperature\"]\n"
   ]
  },
  {
   "cell_type": "code",
   "execution_count": 66,
   "metadata": {},
   "outputs": [],
   "source": [
    "# split data into training and test samples\n",
    "x_train, x_test, y_train, y_test = train_test_split(X, Y, test_size=0.3, random_state=5, shuffle=True)\n"
   ]
  },
  {
   "cell_type": "markdown",
   "metadata": {},
   "source": [
    "# Linear Regression"
   ]
  },
  {
   "cell_type": "code",
   "execution_count": 67,
   "metadata": {},
   "outputs": [
    {
     "data": {
      "text/plain": [
       "LinearRegression()"
      ]
     },
     "execution_count": 67,
     "metadata": {},
     "output_type": "execute_result"
    }
   ],
   "source": [
    "#Build Linear regression model\n",
    "\n",
    "model = LinearRegression()\n",
    "model.fit(x_train, y_train)"
   ]
  },
  {
   "cell_type": "code",
   "execution_count": 68,
   "metadata": {},
   "outputs": [],
   "source": [
    "#Predict training and testing values\n",
    "\n",
    "predicted_training_vals = model.predict(x_train)\n",
    "predicted_test_vals = model.predict(x_test)\n",
    "\n"
   ]
  },
  {
   "cell_type": "code",
   "execution_count": 69,
   "metadata": {},
   "outputs": [
    {
     "name": "stdout",
     "output_type": "stream",
     "text": [
      "RMSE for training data: 3.818933685304276\n",
      "\n",
      "RMSE for test data: 3.8978434305652367\n"
     ]
    }
   ],
   "source": [
    "#Calculate RMSE\n",
    "\n",
    "mse_train = mean_squared_error(y_train, predicted_training_vals)\n",
    "rmse_train = np.sqrt(mse_train)\n",
    "print(f\"RMSE for training data: {rmse_train}\")\n",
    "\n",
    "mse_test = mean_squared_error(y_test, predicted_test_vals)\n",
    "rmse_test = np.sqrt(mse_test)\n",
    "print(f\"\\nRMSE for test data: {rmse_test}\")"
   ]
  },
  {
   "cell_type": "code",
   "execution_count": 70,
   "metadata": {},
   "outputs": [
    {
     "data": {
      "image/png": "[encoded data removed]",
      "text/plain": [
       "<Figure size 1440x720 with 1 Axes>"
      ]
     },
     "metadata": {
      "needs_background": "light"
     },
     "output_type": "display_data"
    }
   ],
   "source": [
    "#Plot the regression line\n",
    "\n",
    "plt.figure(figsize=[20,10])\n",
    "plt.scatter(x_train, y_train, c=\"red\")\n",
    "plt.plot(x_train, predicted_training_vals, c='blue')\n",
    "plt.xlabel('humidity')\n",
    "plt.ylabel('temperature')\n",
    "plt.show()"
   ]
  },
  {
   "cell_type": "markdown",
   "metadata": {},
   "source": [
    "# Polynomial Regression"
   ]
  },
  {
   "cell_type": "code",
   "execution_count": 71,
   "metadata": {},
   "outputs": [],
   "source": [
    "# getting the vars ready\n",
    "ypred_test = {}\n",
    "ypred_train = {}\n",
    "\n",
    "rmse_test = {}\n",
    "rmse_train = {}\n"
   ]
  },
  {
   "cell_type": "code",
   "execution_count": 72,
   "metadata": {},
   "outputs": [
    {
     "name": "stdout",
     "output_type": "stream",
     "text": [
      "For degree = 0, shape of polinomial features = (573, 1)\n",
      "For degree = 1, shape of polinomial features = (573, 2)\n",
      "For degree = 2, shape of polinomial features = (573, 3)\n",
      "For degree = 3, shape of polinomial features = (573, 4)\n",
      "For degree = 4, shape of polinomial features = (573, 5)\n",
      "For degree = 5, shape of polinomial features = (573, 6)\n",
      "For degree = 6, shape of polinomial features = (573, 7)\n",
      "For degree = 7, shape of polinomial features = (573, 8)\n",
      "For degree = 8, shape of polinomial features = (573, 9)\n",
      "For degree = 9, shape of polinomial features = (573, 10)\n"
     ]
    }
   ],
   "source": [
    "# Build models for varying degree of polynomial\n",
    "\n",
    "for d in range(10):\n",
    "    poly_features = PolynomialFeatures(degree=d)\n",
    "    x_poly = poly_features.fit_transform(x_train)\n",
    "    print(f\"For degree = {d}, shape of polinomial features = {x_poly.shape}\")\n",
    "    lr_model = LinearRegression()\n",
    "    lr_model.fit(x_poly, y_train) # model will be trained\n",
    "\n",
    "    y_pred_test = lr_model.predict(poly_features.fit_transform(x_test))\n",
    "    ypred_test[d] = y_pred_test\n",
    "\n",
    "    y_pred_train = lr_model.predict(poly_features.fit_transform(x_train))\n",
    "    ypred_train[d] = y_pred_train\n",
    "\n",
    "    # calculate rmse\n",
    "    mse_test = mean_squared_error(y_pred_test, y_test)\n",
    "    rmse_test[d] = np.sqrt(mse_test)\n",
    "\n",
    "    mse_train = mean_squared_error(y_pred_train, y_train)\n",
    "    rmse_train[d] = np.sqrt(mse_train)\n",
    "\n"
   ]
  },
  {
   "cell_type": "code",
   "execution_count": 73,
   "metadata": {},
   "outputs": [
    {
     "name": "stdout",
     "output_type": "stream",
     "text": [
      "rmse_test = {0: 4.084354730865734, 1: 3.8978434305652367, 2: 3.940002565106517, 3: 3.9710347854040906, 4: 4.028943402997481, 5: 4.036764216895717, 6: 4.036132450513184, 7: 4.036330521635413, 8: 4.032564411710237, 9: 4.02534185368237}\n",
      "\n",
      "For degree = 1, RMSE = 3.8978434305652367\n",
      "\n",
      "rmse_train = {0: 4.045213563839592, 1: 3.818933685304276, 2: 3.8082388182740523, 3: 3.7845185131679564, 4: 3.72712025144037, 5: 3.724889944136558, 6: 3.7247238932695526, 7: 3.7248925310307643, 8: 3.7242205103296704, 9: 3.7220720557000013}\n",
      "\n",
      "For degree = 9, RMSE = 3.7220720557000013\n"
     ]
    }
   ],
   "source": [
    "# find minimum rmse value and currosponding poly degree\n",
    "print(f\"rmse_test = {rmse_test}\")\n",
    "best_degree_test = min(rmse_test, key=rmse_test.get)\n",
    "print(f\"\\nFor degree = {best_degree_test}, RMSE = {rmse_test[best_degree_test]}\")\n",
    "\n",
    "print(f\"\\nrmse_train = {rmse_train}\")\n",
    "best_degree_train = min(rmse_train, key=rmse_train.get)\n",
    "print(f\"\\nFor degree = {best_degree_train}, RMSE = {rmse_train[best_degree_train]}\")"
   ]
  },
  {
   "cell_type": "markdown",
   "metadata": {},
   "source": [
    "### Plot the polynomial curve for best degree"
   ]
  },
  {
   "cell_type": "code",
   "execution_count": 75,
   "metadata": {},
   "outputs": [
    {
     "data": {
      "text/plain": [
       "<matplotlib.collections.PathCollection at 0x7f8d82a91400>"
      ]
     },
     "execution_count": 75,
     "metadata": {},
     "output_type": "execute_result"
    },
    {
     "data": {
      "image/png": "[encoded data removed]",
      "text/plain": [
       "<Figure size 1080x360 with 1 Axes>"
      ]
     },
     "metadata": {
      "needs_background": "light"
     },
     "output_type": "display_data"
    }
   ],
   "source": [
    "X_to_plot = x_train.copy()\n",
    "ypred_plot = ypred_train[9].copy()\n",
    "plt.figure(figsize=(15,5))\n",
    "plt.scatter(x_train,y_train,color = 'blue',marker = '+')\n"
   ]
  },
  {
   "cell_type": "code",
   "execution_count": 78,
   "metadata": {},
   "outputs": [
    {
     "name": "stdout",
     "output_type": "stream",
     "text": [
      "Y Predict: <class 'tuple'> X Plot: <class 'tuple'>\n"
     ]
    },
    {
     "data": {
      "text/plain": [
       "Text(0.5, 1.0, 'Best fit curve on the training data')"
      ]
     },
     "execution_count": 78,
     "metadata": {},
     "output_type": "execute_result"
    },
    {
     "data": {
      "image/png": "[encoded data removed]",
      "text/plain": [
       "<Figure size 432x288 with 1 Axes>"
      ]
     },
     "metadata": {
      "needs_background": "light"
     },
     "output_type": "display_data"
    }
   ],
   "source": [
    "sort_axis = operator.itemgetter(0)\n",
    "sorted_zip = sorted(zip(X_to_plot,ypred_plot), key = sort_axis)\n",
    "X_to_plot, ypred_plot = zip(*sorted_zip)\n",
    "print(f\"Y Predict: {type(ypred_plot)} X Plot: {type(X_to_plot)}\")\n",
    "plt.plot(X_to_plot, ypred_plot, color = 'green')\n",
    "plt.xlabel(\"Humidity\")\n",
    "plt.ylabel(\"Temperature\")\n",
    "plt.title(\"Best fit curve on the training data\")"
   ]
  },
  {
   "cell_type": "code",
   "execution_count": null,
   "metadata": {},
   "outputs": [],
   "source": []
  }
 ],
 "metadata": {
  "kernelspec": {
   "display_name": "Python 3",
   "language": "python",
   "name": "python3"
  },
  "language_info": {
   "codemirror_mode": {
    "name": "ipython",
    "version": 3
   },
   "file_extension": ".py",
   "mimetype": "text/x-python",
   "name": "python",
   "nbconvert_exporter": "python",
   "pygments_lexer": "ipython3",
   "version": "3.8.5"
  }
 },
 "nbformat": 4,
 "nbformat_minor": 2
}
