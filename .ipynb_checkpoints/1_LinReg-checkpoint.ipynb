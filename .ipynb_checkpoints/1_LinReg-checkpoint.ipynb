{
 "cells": [
  {
   "cell_type": "code",
   "execution_count": 1,
   "metadata": {},
   "outputs": [],
   "source": [
    "import pandas as pd\n",
    "import numpy as np\n",
    "import matplotlib.pyplot as plt\n",
    "from sklearn.model_selection import train_test_split\n",
    "from sklearn.linear_model import LinearRegression\n",
    "from sklearn.metrics import mean_squared_error\n"
   ]
  },
  {
   "cell_type": "code",
   "execution_count": 2,
   "metadata": {},
   "outputs": [
    {
     "data": {
      "text/html": [
       "<div>\n",
       "<style scoped>\n",
       "    .dataframe tbody tr th:only-of-type {\n",
       "        vertical-align: middle;\n",
       "    }\n",
       "\n",
       "    .dataframe tbody tr th {\n",
       "        vertical-align: top;\n",
       "    }\n",
       "\n",
       "    .dataframe thead th {\n",
       "        text-align: right;\n",
       "    }\n",
       "</style>\n",
       "<table border=\"1\" class=\"dataframe\">\n",
       "  <thead>\n",
       "    <tr style=\"text-align: right;\">\n",
       "      <th></th>\n",
       "      <th>humidity</th>\n",
       "      <th>pressure</th>\n",
       "      <th>rain</th>\n",
       "      <th>lightAvg</th>\n",
       "      <th>lightMax</th>\n",
       "      <th>moisture</th>\n",
       "      <th>temperature</th>\n",
       "    </tr>\n",
       "  </thead>\n",
       "  <tbody>\n",
       "    <tr>\n",
       "      <th>0</th>\n",
       "      <td>87.64615</td>\n",
       "      <td>1027.830769</td>\n",
       "      <td>254.25</td>\n",
       "      <td>274.6232</td>\n",
       "      <td>4333</td>\n",
       "      <td>31.2385</td>\n",
       "      <td>24.06923</td>\n",
       "    </tr>\n",
       "    <tr>\n",
       "      <th>1</th>\n",
       "      <td>95.94805</td>\n",
       "      <td>1006.924675</td>\n",
       "      <td>339.75</td>\n",
       "      <td>14148.9787</td>\n",
       "      <td>54612</td>\n",
       "      <td>100.0000</td>\n",
       "      <td>21.20779</td>\n",
       "    </tr>\n",
       "    <tr>\n",
       "      <th>2</th>\n",
       "      <td>96.17143</td>\n",
       "      <td>1006.568571</td>\n",
       "      <td>38.25</td>\n",
       "      <td>134.9000</td>\n",
       "      <td>4000</td>\n",
       "      <td>93.2000</td>\n",
       "      <td>23.48571</td>\n",
       "    </tr>\n",
       "    <tr>\n",
       "      <th>3</th>\n",
       "      <td>98.58974</td>\n",
       "      <td>1009.415385</td>\n",
       "      <td>29.25</td>\n",
       "      <td>659.8889</td>\n",
       "      <td>4000</td>\n",
       "      <td>5.7692</td>\n",
       "      <td>21.79487</td>\n",
       "    </tr>\n",
       "    <tr>\n",
       "      <th>4</th>\n",
       "      <td>88.32710</td>\n",
       "      <td>991.654112</td>\n",
       "      <td>4.50</td>\n",
       "      <td>2168.3333</td>\n",
       "      <td>6295</td>\n",
       "      <td>4.2897</td>\n",
       "      <td>25.09346</td>\n",
       "    </tr>\n",
       "  </tbody>\n",
       "</table>\n",
       "</div>"
      ],
      "text/plain": [
       "   humidity     pressure    rain    lightAvg  lightMax  moisture  temperature\n",
       "0  87.64615  1027.830769  254.25    274.6232      4333   31.2385     24.06923\n",
       "1  95.94805  1006.924675  339.75  14148.9787     54612  100.0000     21.20779\n",
       "2  96.17143  1006.568571   38.25    134.9000      4000   93.2000     23.48571\n",
       "3  98.58974  1009.415385   29.25    659.8889      4000    5.7692     21.79487\n",
       "4  88.32710   991.654112    4.50   2168.3333      6295    4.2897     25.09346"
      ]
     },
     "execution_count": 2,
     "metadata": {},
     "output_type": "execute_result"
    }
   ],
   "source": [
    "df = pd.read_csv(\"atmosphere_data1.csv\")  # Importing the csv as a dataframe\n",
    "df.head()"
   ]
  },
  {
   "cell_type": "code",
   "execution_count": 3,
   "metadata": {},
   "outputs": [
    {
     "name": "stdout",
     "output_type": "stream",
     "text": [
      "The Data set has 819 rows and 7 columns\n",
      "\n"
     ]
    }
   ],
   "source": [
    "print(\"The Data set has {} rows and {} columns\\n\".format(df.shape[0],df.shape[1]))\n"
   ]
  },
  {
   "cell_type": "code",
   "execution_count": 4,
   "metadata": {},
   "outputs": [
    {
     "name": "stdout",
     "output_type": "stream",
     "text": [
      "humidity       0\n",
      "pressure       0\n",
      "rain           0\n",
      "lightAvg       0\n",
      "lightMax       0\n",
      "moisture       0\n",
      "temperature    0\n",
      "dtype: int64\n",
      "\n",
      "Total NAN values in the File:  0\n"
     ]
    }
   ],
   "source": [
    "#Names of all columns\n",
    "columns = df.columns.values.tolist()\n",
    "#Checking for Null Values:\n",
    "vals=df[columns].isnull().sum()\n",
    "print(vals)\n",
    "print(\"\\nTotal NAN values in the File: \",vals.sum())"
   ]
  },
  {
   "cell_type": "code",
   "execution_count": 5,
   "metadata": {},
   "outputs": [],
   "source": [
    "Y = df[\"temperature\"]\n",
    "X = df[\"pressure\"]"
   ]
  },
  {
   "cell_type": "code",
   "execution_count": 6,
   "metadata": {},
   "outputs": [
    {
     "name": "stdout",
     "output_type": "stream",
     "text": [
      "(573,)\n",
      "(573, 1)\n"
     ]
    }
   ],
   "source": [
    "\n",
    "#Predictor\n",
    "[X_train, X_test, Y_train, Y_test] = train_test_split(X, Y,test_size=0.3, random_state=42,shuffle=True)\n",
    "\n",
    "X_train = np.array(X_train)\n",
    "print(X_train.shape)\n",
    "X_train = X_train.reshape(-1,1)  #X_train.reshape(573,1)\n",
    "print(X_train.shape)\n",
    "\n",
    "X_test = np.array(X_test)\n",
    "X_test = X_test.reshape(-1,1)"
   ]
  },
  {
   "cell_type": "code",
   "execution_count": 7,
   "metadata": {},
   "outputs": [],
   "source": [
    "regressor = LinearRegression()\n",
    "regressor.fit(X_train,Y_train)\n",
    "y_pred_train = regressor.predict(X_train)\n",
    "y_pred_test = regressor.predict(X_test)"
   ]
  },
  {
   "cell_type": "code",
   "execution_count": 8,
   "metadata": {},
   "outputs": [
    {
     "name": "stdout",
     "output_type": "stream",
     "text": [
      "\n",
      "\n",
      "Q1\n"
     ]
    },
    {
     "data": {
      "image/png": "[encoded data removed]",
      "text/plain": [
       "<Figure size 432x288 with 1 Axes>"
      ]
     },
     "metadata": {
      "needs_background": "light"
     },
     "output_type": "display_data"
    }
   ],
   "source": [
    "\n",
    "plt.scatter(X_train,Y_train,marker = \"1\", c = \"red\") # Original data points\n",
    "plt.plot(X_train,y_pred_train,c= \"cyan\" )  # Predicted line\n",
    "plt.xlabel(\"pressure\")\n",
    "plt.ylabel(\"temperature\")\n",
    "plt.title(\"Best fit line on the training data\")\n",
    "plt.show()"
   ]
  },
  {
   "cell_type": "code",
   "execution_count": 9,
   "metadata": {},
   "outputs": [
    {
     "name": "stdout",
     "output_type": "stream",
     "text": [
      "RMSE TRAIN : 3.412105092946124\n"
     ]
    }
   ],
   "source": [
    "MSE_train = mean_squared_error(Y_train,y_pred_train)\n",
    "RMSE_train = np.sqrt(MSE_train)\n",
    "print(\"RMSE TRAIN :\",RMSE_train)"
   ]
  },
  {
   "cell_type": "code",
   "execution_count": 10,
   "metadata": {},
   "outputs": [
    {
     "name": "stdout",
     "output_type": "stream",
     "text": [
      "RMSE TEST : 2.9769257038062733 \n",
      "\n"
     ]
    }
   ],
   "source": [
    "MSE_test = mean_squared_error(Y_test,y_pred_test)\n",
    "RMSE_test = np.sqrt(MSE_test)\n",
    "print(\"RMSE TEST :\",RMSE_test,\"\\n\")"
   ]
  },
  {
   "cell_type": "code",
   "execution_count": 11,
   "metadata": {},
   "outputs": [
    {
     "data": {
      "image/png": "[encoded data removed]",
      "text/plain": [
       "<Figure size 432x288 with 1 Axes>"
      ]
     },
     "metadata": {
      "needs_background": "light"
     },
     "output_type": "display_data"
    }
   ],
   "source": [
    "plt.scatter(Y_test,y_pred_test,marker = \"1\",color = \"green\")\n",
    "plt.xlabel(\"actual temperature\")\n",
    "plt.ylabel(\"predicted temperature\")\n",
    "plt.title(\"Plot of actual temperature vs predicted temperature\")\n",
    "plt.show()"
   ]
  }
 ],
 "metadata": {
  "kernelspec": {
   "display_name": "Python 3",
   "language": "python",
   "name": "python3"
  },
  "language_info": {
   "codemirror_mode": {
    "name": "ipython",
    "version": 3
   },
   "file_extension": ".py",
   "mimetype": "text/x-python",
   "name": "python",
   "nbconvert_exporter": "python",
   "pygments_lexer": "ipython3",
   "version": "3.6.10"
  }
 },
 "nbformat": 4,
 "nbformat_minor": 4
}
